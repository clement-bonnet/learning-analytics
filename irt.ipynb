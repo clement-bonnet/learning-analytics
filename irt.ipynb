{
  "nbformat": 4,
  "nbformat_minor": 0,
  "metadata": {
    "colab": {
      "name": "irt.ipynb",
      "provenance": [],
      "collapsed_sections": [
        "GiYOfy9YROuB",
        "3ovw_Un_RStN",
        "O_elZLshRG8f",
        "rd3jiOxOQ6hK"
      ]
    },
    "kernelspec": {
      "name": "python3",
      "display_name": "Python 3"
    }
  },
  "cells": [
    {
      "cell_type": "markdown",
      "metadata": {
        "id": "GiYOfy9YROuB",
        "colab_type": "text"
      },
      "source": [
        "# Initialization"
      ]
    },
    {
      "cell_type": "markdown",
      "metadata": {
        "id": "Xh5kLyR-Sq9t",
        "colab_type": "text"
      },
      "source": [
        "Google Colab stuff"
      ]
    },
    {
      "cell_type": "code",
      "metadata": {
        "id": "femVKTdh7TUZ",
        "colab_type": "code",
        "colab": {}
      },
      "source": [
        "# To access Google Drive files\n",
        "from google.colab import drive\n",
        "drive.mount('/content/drive')\n",
        "\n",
        "# Install PyIrt from PyPi\n",
        "!pip install pyirt"
      ],
      "execution_count": null,
      "outputs": []
    },
    {
      "cell_type": "markdown",
      "metadata": {
        "id": "J3X82nTqSvXX",
        "colab_type": "text"
      },
      "source": [
        "Import statements"
      ]
    },
    {
      "cell_type": "code",
      "metadata": {
        "id": "waT6OhIG8ZTb",
        "colab_type": "code",
        "colab": {}
      },
      "source": [
        "import pandas as pd\n",
        "import numpy as np\n",
        "from sklearn.metrics import classification_report, roc_auc_score\n",
        "from pyirt import irt"
      ],
      "execution_count": null,
      "outputs": []
    },
    {
      "cell_type": "markdown",
      "metadata": {
        "id": "3ovw_Un_RStN",
        "colab_type": "text"
      },
      "source": [
        "# Import data"
      ]
    },
    {
      "cell_type": "code",
      "metadata": {
        "id": "VZrg9D5WAS9O",
        "colab_type": "code",
        "colab": {
          "base_uri": "https://localhost:8080/",
          "height": 415
        },
        "outputId": "349d5226-a41d-40e4-cb69-e8228df6ce37"
      },
      "source": [
        "df = pd.read_csv(\"/content/drive/My Drive/Recherche CS - etude de cas - Learning Analytics/data/public_data/train_data/train_task_1_2.csv\")\n",
        "df"
      ],
      "execution_count": null,
      "outputs": [
        {
          "output_type": "execute_result",
          "data": {
            "text/html": [
              "<div>\n",
              "<style scoped>\n",
              "    .dataframe tbody tr th:only-of-type {\n",
              "        vertical-align: middle;\n",
              "    }\n",
              "\n",
              "    .dataframe tbody tr th {\n",
              "        vertical-align: top;\n",
              "    }\n",
              "\n",
              "    .dataframe thead th {\n",
              "        text-align: right;\n",
              "    }\n",
              "</style>\n",
              "<table border=\"1\" class=\"dataframe\">\n",
              "  <thead>\n",
              "    <tr style=\"text-align: right;\">\n",
              "      <th></th>\n",
              "      <th>QuestionId</th>\n",
              "      <th>UserId</th>\n",
              "      <th>AnswerId</th>\n",
              "      <th>IsCorrect</th>\n",
              "      <th>CorrectAnswer</th>\n",
              "      <th>AnswerValue</th>\n",
              "    </tr>\n",
              "  </thead>\n",
              "  <tbody>\n",
              "    <tr>\n",
              "      <th>0</th>\n",
              "      <td>16997</td>\n",
              "      <td>65967</td>\n",
              "      <td>12453206</td>\n",
              "      <td>0</td>\n",
              "      <td>4</td>\n",
              "      <td>2</td>\n",
              "    </tr>\n",
              "    <tr>\n",
              "      <th>1</th>\n",
              "      <td>16531</td>\n",
              "      <td>62121</td>\n",
              "      <td>15686710</td>\n",
              "      <td>1</td>\n",
              "      <td>1</td>\n",
              "      <td>1</td>\n",
              "    </tr>\n",
              "    <tr>\n",
              "      <th>2</th>\n",
              "      <td>15911</td>\n",
              "      <td>50013</td>\n",
              "      <td>13598796</td>\n",
              "      <td>0</td>\n",
              "      <td>3</td>\n",
              "      <td>1</td>\n",
              "    </tr>\n",
              "    <tr>\n",
              "      <th>3</th>\n",
              "      <td>1701</td>\n",
              "      <td>104909</td>\n",
              "      <td>10511925</td>\n",
              "      <td>0</td>\n",
              "      <td>4</td>\n",
              "      <td>3</td>\n",
              "    </tr>\n",
              "    <tr>\n",
              "      <th>4</th>\n",
              "      <td>22896</td>\n",
              "      <td>21748</td>\n",
              "      <td>941747</td>\n",
              "      <td>0</td>\n",
              "      <td>1</td>\n",
              "      <td>4</td>\n",
              "    </tr>\n",
              "    <tr>\n",
              "      <th>...</th>\n",
              "      <td>...</td>\n",
              "      <td>...</td>\n",
              "      <td>...</td>\n",
              "      <td>...</td>\n",
              "      <td>...</td>\n",
              "      <td>...</td>\n",
              "    </tr>\n",
              "    <tr>\n",
              "      <th>15867845</th>\n",
              "      <td>21324</td>\n",
              "      <td>117940</td>\n",
              "      <td>14754537</td>\n",
              "      <td>0</td>\n",
              "      <td>1</td>\n",
              "      <td>4</td>\n",
              "    </tr>\n",
              "    <tr>\n",
              "      <th>15867846</th>\n",
              "      <td>9191</td>\n",
              "      <td>62464</td>\n",
              "      <td>17477250</td>\n",
              "      <td>1</td>\n",
              "      <td>1</td>\n",
              "      <td>1</td>\n",
              "    </tr>\n",
              "    <tr>\n",
              "      <th>15867847</th>\n",
              "      <td>13091</td>\n",
              "      <td>71308</td>\n",
              "      <td>4786170</td>\n",
              "      <td>1</td>\n",
              "      <td>4</td>\n",
              "      <td>4</td>\n",
              "    </tr>\n",
              "    <tr>\n",
              "      <th>15867848</th>\n",
              "      <td>23065</td>\n",
              "      <td>38539</td>\n",
              "      <td>11284982</td>\n",
              "      <td>1</td>\n",
              "      <td>4</td>\n",
              "      <td>4</td>\n",
              "    </tr>\n",
              "    <tr>\n",
              "      <th>15867849</th>\n",
              "      <td>22247</td>\n",
              "      <td>44755</td>\n",
              "      <td>9682899</td>\n",
              "      <td>1</td>\n",
              "      <td>3</td>\n",
              "      <td>3</td>\n",
              "    </tr>\n",
              "  </tbody>\n",
              "</table>\n",
              "<p>15867850 rows × 6 columns</p>\n",
              "</div>"
            ],
            "text/plain": [
              "          QuestionId  UserId  AnswerId  IsCorrect  CorrectAnswer  AnswerValue\n",
              "0              16997   65967  12453206          0              4            2\n",
              "1              16531   62121  15686710          1              1            1\n",
              "2              15911   50013  13598796          0              3            1\n",
              "3               1701  104909  10511925          0              4            3\n",
              "4              22896   21748    941747          0              1            4\n",
              "...              ...     ...       ...        ...            ...          ...\n",
              "15867845       21324  117940  14754537          0              1            4\n",
              "15867846        9191   62464  17477250          1              1            1\n",
              "15867847       13091   71308   4786170          1              4            4\n",
              "15867848       23065   38539  11284982          1              4            4\n",
              "15867849       22247   44755   9682899          1              3            3\n",
              "\n",
              "[15867850 rows x 6 columns]"
            ]
          },
          "metadata": {
            "tags": []
          },
          "execution_count": 9
        }
      ]
    },
    {
      "cell_type": "code",
      "metadata": {
        "id": "E68r7U8E8eJO",
        "colab_type": "code",
        "colab": {}
      },
      "source": [
        "df = df[[\"UserId\", \"QuestionId\", \"IsCorrect\"]]"
      ],
      "execution_count": null,
      "outputs": []
    },
    {
      "cell_type": "markdown",
      "metadata": {
        "id": "O_elZLshRG8f",
        "colab_type": "text"
      },
      "source": [
        "# IRT model"
      ]
    },
    {
      "cell_type": "code",
      "metadata": {
        "id": "A3ydPNrs_pCG",
        "colab_type": "code",
        "colab": {}
      },
      "source": [
        "# Transformation of the input as a list of tuples for IRT\n",
        "scores = list(df.to_records(index=False))"
      ],
      "execution_count": null,
      "outputs": []
    },
    {
      "cell_type": "code",
      "metadata": {
        "id": "hWGpNkyh_sHL",
        "colab_type": "code",
        "colab": {}
      },
      "source": [
        "# IRT solver\n",
        "item_param, user_param = irt(scores)"
      ],
      "execution_count": null,
      "outputs": []
    },
    {
      "cell_type": "code",
      "metadata": {
        "id": "wbQ3P-2dAC6g",
        "colab_type": "code",
        "colab": {}
      },
      "source": [
        "def proba_irt(question_id, user_id, item_param=item_param, user_param=user_param):\n",
        "    item = item_param[question_id]\n",
        "    alpha, beta, c = item[\"alpha\"], item[\"beta\"], item[\"c\"]\n",
        "    theta = user_param[user_id]\n",
        "    return c + (1-c)/(1+np.exp(-alpha*(theta + beta)))\n",
        "def apply_proba(r):\n",
        "    return proba_irt(r[\"QuestionId\"], r[\"UserId\"])"
      ],
      "execution_count": null,
      "outputs": []
    },
    {
      "cell_type": "code",
      "metadata": {
        "id": "Ck2ff4z2Ahjv",
        "colab_type": "code",
        "colab": {}
      },
      "source": [
        "df[\"Proba\"] = df.apply(apply_proba, axis=1)"
      ],
      "execution_count": null,
      "outputs": []
    },
    {
      "cell_type": "markdown",
      "metadata": {
        "id": "rd3jiOxOQ6hK",
        "colab_type": "text"
      },
      "source": [
        "# Prediction"
      ]
    },
    {
      "cell_type": "markdown",
      "metadata": {
        "id": "gPG6VXEXQL5b",
        "colab_type": "text"
      },
      "source": [
        "**Threshold of 0.5**"
      ]
    },
    {
      "cell_type": "code",
      "metadata": {
        "id": "8jvu7ui9Aqz5",
        "colab_type": "code",
        "colab": {}
      },
      "source": [
        "THRESHOLD = 0.5\n",
        "df[\"Pred\"] = df.apply(lambda r: int(r[\"Proba\"]>THRESHOLD), axis=1)"
      ],
      "execution_count": null,
      "outputs": []
    },
    {
      "cell_type": "code",
      "metadata": {
        "id": "iWUrVMhOLeGu",
        "colab_type": "code",
        "colab": {
          "base_uri": "https://localhost:8080/",
          "height": 191
        },
        "outputId": "c1e8faae-c979-4b37-957a-693442279ee2"
      },
      "source": [
        "print(classification_report(df[\"IsCorrect\"], df[\"Pred\"], digits=3))\n",
        "print(\"AUC = {:.3f}\".format(roc_auc_score(df[\"IsCorrect\"], df[\"Proba\"])))"
      ],
      "execution_count": null,
      "outputs": [
        {
          "output_type": "stream",
          "text": [
            "              precision    recall  f1-score   support\n",
            "\n",
            "           0      0.668     0.523     0.587   5665611\n",
            "           1      0.764     0.855     0.807  10202239\n",
            "\n",
            "    accuracy                          0.737  15867850\n",
            "   macro avg      0.716     0.689     0.697  15867850\n",
            "weighted avg      0.730     0.737     0.728  15867850\n",
            "\n",
            "AUC = 0.798\n"
          ],
          "name": "stdout"
        }
      ]
    },
    {
      "cell_type": "markdown",
      "metadata": {
        "colab_type": "text",
        "id": "NBR99HiDQc4P"
      },
      "source": [
        "**Threshold of 0.7**"
      ]
    },
    {
      "cell_type": "code",
      "metadata": {
        "id": "Qgblc8h5PELq",
        "colab_type": "code",
        "colab": {}
      },
      "source": [
        "THRESHOLD = 0.7\n",
        "df[\"Pred\"] = df.apply(lambda r: int(r[\"Proba\"]>THRESHOLD), axis=1)"
      ],
      "execution_count": null,
      "outputs": []
    },
    {
      "cell_type": "code",
      "metadata": {
        "id": "pmw2ttlXPH6h",
        "colab_type": "code",
        "colab": {
          "base_uri": "https://localhost:8080/",
          "height": 191
        },
        "outputId": "5c822c23-f67d-474b-a0a1-2160ab8e5b02"
      },
      "source": [
        "print(classification_report(df[\"IsCorrect\"], df[\"Pred\"], digits=3))\n",
        "print(\"AUC = {:.3f}\".format(roc_auc_score(df[\"IsCorrect\"], df[\"Proba\"])))"
      ],
      "execution_count": null,
      "outputs": [
        {
          "output_type": "stream",
          "text": [
            "              precision    recall  f1-score   support\n",
            "\n",
            "           0      0.554     0.814     0.659   5665611\n",
            "           1      0.860     0.636     0.731  10202239\n",
            "\n",
            "    accuracy                          0.699  15867850\n",
            "   macro avg      0.707     0.725     0.695  15867850\n",
            "weighted avg      0.751     0.699     0.705  15867850\n",
            "\n",
            "AUC = 0.798\n"
          ],
          "name": "stdout"
        }
      ]
    }
  ]
}